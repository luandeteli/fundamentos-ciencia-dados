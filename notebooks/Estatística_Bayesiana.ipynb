{
  "nbformat": 4,
  "nbformat_minor": 0,
  "metadata": {
    "colab": {
      "provenance": []
    },
    "kernelspec": {
      "name": "python3",
      "display_name": "Python 3"
    },
    "language_info": {
      "name": "python"
    }
  },
  "cells": [
    {
      "cell_type": "markdown",
      "source": [
        "![download.png](data:image/png;base64,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)"
      ],
      "metadata": {
        "id": "LtJ7NF9p5ddW"
      }
    },
    {
      "cell_type": "markdown",
      "source": [
        "# Estatística Bayesiana\n",
        "\n",
        "A estatística se divide em dois ramos principais: descritiva e inferencial.\n",
        "\n",
        "* Descritiva: cuida da exploração dos dados, é uma área da estatística que se dedica a descrever dados, permitindo compreender e resumir as principais características de um conjunto de dados, presente no dia a dia de profissionais de BI. Ao pproduzir tabelas, calcular médias ou construir gráficos, estes especialistas estão trabalhando com estatística descritiva.\n",
        "\n",
        "\n",
        "* Inferencial: Busca tirar conclusões de um todo a partir de uma fração de informações. É um ramo da estatística que permite tirar conclusões sobre uma população a partir de uma amostra.\n",
        "\n",
        "Ainda pode-se dividir a estatística inferencial em mais dois ramos: Clássica e Bayesiana"
      ],
      "metadata": {
        "id": "Putba_mkxV9m"
      }
    },
    {
      "cell_type": "markdown",
      "source": [
        "# Estatística Inferencial Clássica\n",
        "\n",
        "Também conhecida como frequentista, toda previsão é feita a partir de dados disponíveis. É um conjunto de testes estatísticos que se baseiam na frequência com que eventos ocorrem.\n",
        "\n",
        "# Estatística Inferencial Bayesiana\n",
        "\n",
        "Uma teoria no campo da estatística baseada na interpretação bayesiana da probabilidade, no geral, a probabilidade expressa um grau de convicção em um evento. Os métodos estatisticos bayesianos usam o teorema de Bayes para calcular e atualizar probabilidades após a obtenção de novos dados. O teorema de Bayes descreve a probabilidade condicional de um evento com base em dados. Diferente da estatística clássica (frequentista), que trabalha com probabilidades fixas baseadas em frequências, a estatística bayesiana trata a incerteza de maneira mais flexível, considerando probabilidades como graus de crença."
      ],
      "metadata": {
        "id": "3OXH7g5fzIUN"
      }
    },
    {
      "cell_type": "markdown",
      "source": [
        "# Problema prático\n",
        "\n",
        "Suponhando que um teste para uma doença rara tenha uma taxa de acerto de 99% quando a pessoa está doente (sensibilidade) e uma taxa de 95% de acerto quando a pessoa NÃO está doente (especificidade).\n",
        "\n",
        "Sabemos que apenas 0,1% da população tem essa doença. Se uma pessoa faz o teste e recebe um resultado positivo, qual é a chance real dela ter a doença?\n",
        "\n",
        "\n",
        "#  Definindo probabilidades:\n",
        "\n",
        "* P(D) = Probabilidade de alguém ter a doença = 0,001 (ou 0,1%)\n",
        "* P(¬D) = Probabilidade de alguém NÃO ter a doença = 0,999 (ou 99,9%)\n",
        "* P(T∣D) = Probabilidade do teste dar positivo se a pessoa tem a doença (sensibilidade) = 0,99\n",
        "* P(T∣¬D) = Probabilidade do teste dar positivo se a pessoa NÃO tem a doença (falso positivo) = 1 - 0,95 = 0,05\n",
        "\n"
      ],
      "metadata": {
        "id": "qH0JP5B00Z29"
      }
    },
    {
      "cell_type": "code",
      "source": [
        "P_D = 0.001 # Probabilidade de ter a doença (0,1%)\n",
        "P_not_D = 0.999 # Probabilidade de não ter a doença (99,9%)\n",
        "P_T_given_D = 0.99 # Probabilidade do teste ser positivo dado que a pessoa tem a doença (99%)\n",
        "P_T_given_not_D = 0.05 # Probabilidade do teste ser positivo mesmo sem a doença (falso positivo) (5%)"
      ],
      "metadata": {
        "id": "P2OKV8j00eZl"
      },
      "execution_count": null,
      "outputs": []
    },
    {
      "cell_type": "code",
      "source": [
        "# Cálculo da probabilidade total de um teste positivo (Evidência)\n",
        "P_T = (P_T_given_D * P_D) + (P_T_given_not_D * P_not_D)"
      ],
      "metadata": {
        "id": "dS73KS2m1h21"
      },
      "execution_count": null,
      "outputs": []
    },
    {
      "cell_type": "code",
      "source": [
        "# Aplicação do teorema de Bayes\n",
        "P_D_given_T = (P_T_given_D * P_D) / P_T # Probabilidade de ter a doença dado que o teste foi positivo"
      ],
      "metadata": {
        "id": "SXJ5YAuM31v1"
      },
      "execution_count": null,
      "outputs": []
    },
    {
      "cell_type": "code",
      "source": [
        "print(\"{0:.2f}%\".format(P_D_given_T*100))"
      ],
      "metadata": {
        "colab": {
          "base_uri": "https://localhost:8080/"
        },
        "id": "3RvyvGRF4AG2",
        "outputId": "dab01ee5-dec1-48cb-f399-c43ec64b39ad"
      },
      "execution_count": null,
      "outputs": [
        {
          "output_type": "stream",
          "name": "stdout",
          "text": [
            "1.94%\n"
          ]
        }
      ]
    },
    {
      "cell_type": "markdown",
      "source": [
        "O resultado mostra que, mesmo com um teste positivo, a probabilidade real da pessoa ter a doença é de 1,94%.\n",
        "\n",
        "Isso acontece porque a doença é muito rara, então a maioria dos testes positivos são, na verdade, falsos positivos."
      ],
      "metadata": {
        "id": "PR6LJtkC4DA8"
      }
    }
  ]
}